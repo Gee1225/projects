{
  "cells": [
    {
      "cell_type": "markdown",
      "metadata": {
        "id": "D1JMp22fk-XB"
      },
      "source": [
        "# **Welcome to the Notebook**"
      ]
    },
    {
      "cell_type": "markdown",
      "metadata": {
        "id": "WSq024bak3oY"
      },
      "source": [
        "### Task 1 - Set up the project"
      ]
    },
    {
      "cell_type": "markdown",
      "metadata": {
        "id": "yZ2xad8skFPi"
      },
      "source": [
        "Installing the needed modules."
      ]
    },
    {
      "cell_type": "code",
      "execution_count": 7,
      "metadata": {
        "id": "9TysdMWOkEfm",
        "outputId": "c8e1ab81-46a1-41d2-a37f-4b95ba0751d1",
        "colab": {
          "base_uri": "https://localhost:8080/"
        }
      },
      "outputs": [
        {
          "output_type": "stream",
          "name": "stdout",
          "text": [
            "Collecting openai==1.14.3\n",
            "  Downloading openai-1.14.3-py3-none-any.whl.metadata (20 kB)\n",
            "Requirement already satisfied: python-dotenv in /usr/local/lib/python3.11/dist-packages (1.1.0)\n",
            "Requirement already satisfied: pyspark in /usr/local/lib/python3.11/dist-packages (3.5.1)\n",
            "Requirement already satisfied: anyio<5,>=3.5.0 in /usr/local/lib/python3.11/dist-packages (from openai==1.14.3) (4.9.0)\n",
            "Requirement already satisfied: distro<2,>=1.7.0 in /usr/local/lib/python3.11/dist-packages (from openai==1.14.3) (1.9.0)\n",
            "Requirement already satisfied: httpx<1,>=0.23.0 in /usr/local/lib/python3.11/dist-packages (from openai==1.14.3) (0.28.1)\n",
            "Requirement already satisfied: pydantic<3,>=1.9.0 in /usr/local/lib/python3.11/dist-packages (from openai==1.14.3) (2.11.5)\n",
            "Requirement already satisfied: sniffio in /usr/local/lib/python3.11/dist-packages (from openai==1.14.3) (1.3.1)\n",
            "Requirement already satisfied: tqdm>4 in /usr/local/lib/python3.11/dist-packages (from openai==1.14.3) (4.67.1)\n",
            "Requirement already satisfied: typing-extensions<5,>=4.7 in /usr/local/lib/python3.11/dist-packages (from openai==1.14.3) (4.14.0)\n",
            "Requirement already satisfied: py4j==0.10.9.7 in /usr/local/lib/python3.11/dist-packages (from pyspark) (0.10.9.7)\n",
            "Requirement already satisfied: idna>=2.8 in /usr/local/lib/python3.11/dist-packages (from anyio<5,>=3.5.0->openai==1.14.3) (3.10)\n",
            "Requirement already satisfied: certifi in /usr/local/lib/python3.11/dist-packages (from httpx<1,>=0.23.0->openai==1.14.3) (2025.4.26)\n",
            "Requirement already satisfied: httpcore==1.* in /usr/local/lib/python3.11/dist-packages (from httpx<1,>=0.23.0->openai==1.14.3) (1.0.9)\n",
            "Requirement already satisfied: h11>=0.16 in /usr/local/lib/python3.11/dist-packages (from httpcore==1.*->httpx<1,>=0.23.0->openai==1.14.3) (0.16.0)\n",
            "Requirement already satisfied: annotated-types>=0.6.0 in /usr/local/lib/python3.11/dist-packages (from pydantic<3,>=1.9.0->openai==1.14.3) (0.7.0)\n",
            "Requirement already satisfied: pydantic-core==2.33.2 in /usr/local/lib/python3.11/dist-packages (from pydantic<3,>=1.9.0->openai==1.14.3) (2.33.2)\n",
            "Requirement already satisfied: typing-inspection>=0.4.0 in /usr/local/lib/python3.11/dist-packages (from pydantic<3,>=1.9.0->openai==1.14.3) (0.4.1)\n",
            "Downloading openai-1.14.3-py3-none-any.whl (262 kB)\n",
            "\u001b[?25l   \u001b[90m━━━━━━━━━━━━━━━━━━━━━━━━━━━━━━━━━━━━━━━━\u001b[0m \u001b[32m0.0/262.9 kB\u001b[0m \u001b[31m?\u001b[0m eta \u001b[36m-:--:--\u001b[0m\r\u001b[2K   \u001b[90m━━━━━━━━━━━━━━━━━━━━━━━━━━━━━━━━━━━━━━━━\u001b[0m \u001b[32m262.9/262.9 kB\u001b[0m \u001b[31m18.3 MB/s\u001b[0m eta \u001b[36m0:00:00\u001b[0m\n",
            "\u001b[?25hInstalling collected packages: openai\n",
            "  Attempting uninstall: openai\n",
            "    Found existing installation: openai 1.16.2\n",
            "    Uninstalling openai-1.16.2:\n",
            "      Successfully uninstalled openai-1.16.2\n",
            "Successfully installed openai-1.14.3\n"
          ]
        }
      ],
      "source": [
        "\n",
        "!pip install openai==1.14.3 python-dotenv pyspark\n"
      ]
    },
    {
      "cell_type": "markdown",
      "metadata": {
        "id": "BW-TNHnokK9R"
      },
      "source": [
        "Imporint the modules"
      ]
    },
    {
      "cell_type": "code",
      "execution_count": 8,
      "metadata": {
        "id": "471JgJHHkM4j"
      },
      "outputs": [],
      "source": [
        "from dotenv import load_dotenv\n",
        "import os\n",
        "from openai import OpenAI\n",
        "import pandas as pd\n",
        "import numpy as np\n",
        "\n",
        "from pyspark.sql import SparkSession\n",
        "from pyspark.sql.functions import concat_ws\n",
        "from pyspark.sql import functions as F\n",
        "from pyspark.sql.types import ArrayType, FloatType\n",
        "\n",
        "from pyspark.ml.feature import VectorAssembler, PCA\n",
        "from pyspark.ml.clustering import KMeans\n",
        "import plotly.express as px"
      ]
    },
    {
      "cell_type": "markdown",
      "metadata": {
        "id": "5B9C7nK-n_PH"
      },
      "source": [
        "Setup the OpenAI API"
      ]
    },
    {
      "cell_type": "code",
      "source": [
        "!pip install --upgrade openai\n"
      ],
      "metadata": {
        "id": "sgQpw2-6Y2VT",
        "outputId": "32782175-f187-46b8-f492-ef59cfdba852",
        "colab": {
          "base_uri": "https://localhost:8080/"
        }
      },
      "execution_count": 12,
      "outputs": [
        {
          "output_type": "stream",
          "name": "stdout",
          "text": [
            "Requirement already satisfied: openai in /usr/local/lib/python3.11/dist-packages (1.14.3)\n",
            "Collecting openai\n",
            "  Downloading openai-1.85.0-py3-none-any.whl.metadata (25 kB)\n",
            "Requirement already satisfied: anyio<5,>=3.5.0 in /usr/local/lib/python3.11/dist-packages (from openai) (4.9.0)\n",
            "Requirement already satisfied: distro<2,>=1.7.0 in /usr/local/lib/python3.11/dist-packages (from openai) (1.9.0)\n",
            "Requirement already satisfied: httpx<1,>=0.23.0 in /usr/local/lib/python3.11/dist-packages (from openai) (0.28.1)\n",
            "Requirement already satisfied: jiter<1,>=0.4.0 in /usr/local/lib/python3.11/dist-packages (from openai) (0.10.0)\n",
            "Requirement already satisfied: pydantic<3,>=1.9.0 in /usr/local/lib/python3.11/dist-packages (from openai) (2.11.5)\n",
            "Requirement already satisfied: sniffio in /usr/local/lib/python3.11/dist-packages (from openai) (1.3.1)\n",
            "Requirement already satisfied: tqdm>4 in /usr/local/lib/python3.11/dist-packages (from openai) (4.67.1)\n",
            "Requirement already satisfied: typing-extensions<5,>=4.11 in /usr/local/lib/python3.11/dist-packages (from openai) (4.14.0)\n",
            "Requirement already satisfied: idna>=2.8 in /usr/local/lib/python3.11/dist-packages (from anyio<5,>=3.5.0->openai) (3.10)\n",
            "Requirement already satisfied: certifi in /usr/local/lib/python3.11/dist-packages (from httpx<1,>=0.23.0->openai) (2025.4.26)\n",
            "Requirement already satisfied: httpcore==1.* in /usr/local/lib/python3.11/dist-packages (from httpx<1,>=0.23.0->openai) (1.0.9)\n",
            "Requirement already satisfied: h11>=0.16 in /usr/local/lib/python3.11/dist-packages (from httpcore==1.*->httpx<1,>=0.23.0->openai) (0.16.0)\n",
            "Requirement already satisfied: annotated-types>=0.6.0 in /usr/local/lib/python3.11/dist-packages (from pydantic<3,>=1.9.0->openai) (0.7.0)\n",
            "Requirement already satisfied: pydantic-core==2.33.2 in /usr/local/lib/python3.11/dist-packages (from pydantic<3,>=1.9.0->openai) (2.33.2)\n",
            "Requirement already satisfied: typing-inspection>=0.4.0 in /usr/local/lib/python3.11/dist-packages (from pydantic<3,>=1.9.0->openai) (0.4.1)\n",
            "Downloading openai-1.85.0-py3-none-any.whl (730 kB)\n",
            "\u001b[2K   \u001b[90m━━━━━━━━━━━━━━━━━━━━━━━━━━━━━━━━━━━━━━━━\u001b[0m \u001b[32m730.2/730.2 kB\u001b[0m \u001b[31m33.8 MB/s\u001b[0m eta \u001b[36m0:00:00\u001b[0m\n",
            "\u001b[?25hInstalling collected packages: openai\n",
            "  Attempting uninstall: openai\n",
            "    Found existing installation: openai 1.14.3\n",
            "    Uninstalling openai-1.14.3:\n",
            "      Successfully uninstalled openai-1.14.3\n",
            "Successfully installed openai-1.85.0\n"
          ]
        }
      ]
    },
    {
      "cell_type": "code",
      "execution_count": 16,
      "metadata": {
        "id": "41IBnP7WoDul",
        "outputId": "40896afe-0fca-49a8-efcd-d802ca81beb8",
        "colab": {
          "base_uri": "https://localhost:8080/",
          "height": 778
        }
      },
      "outputs": [
        {
          "output_type": "stream",
          "name": "stdout",
          "text": [
            "Requirement already satisfied: openai in /usr/local/lib/python3.11/dist-packages (1.85.0)\n",
            "Requirement already satisfied: anyio<5,>=3.5.0 in /usr/local/lib/python3.11/dist-packages (from openai) (4.9.0)\n",
            "Requirement already satisfied: distro<2,>=1.7.0 in /usr/local/lib/python3.11/dist-packages (from openai) (1.9.0)\n",
            "Requirement already satisfied: httpx<1,>=0.23.0 in /usr/local/lib/python3.11/dist-packages (from openai) (0.28.1)\n",
            "Requirement already satisfied: jiter<1,>=0.4.0 in /usr/local/lib/python3.11/dist-packages (from openai) (0.10.0)\n",
            "Requirement already satisfied: pydantic<3,>=1.9.0 in /usr/local/lib/python3.11/dist-packages (from openai) (2.11.5)\n",
            "Requirement already satisfied: sniffio in /usr/local/lib/python3.11/dist-packages (from openai) (1.3.1)\n",
            "Requirement already satisfied: tqdm>4 in /usr/local/lib/python3.11/dist-packages (from openai) (4.67.1)\n",
            "Requirement already satisfied: typing-extensions<5,>=4.11 in /usr/local/lib/python3.11/dist-packages (from openai) (4.14.0)\n",
            "Requirement already satisfied: idna>=2.8 in /usr/local/lib/python3.11/dist-packages (from anyio<5,>=3.5.0->openai) (3.10)\n",
            "Requirement already satisfied: certifi in /usr/local/lib/python3.11/dist-packages (from httpx<1,>=0.23.0->openai) (2025.4.26)\n",
            "Requirement already satisfied: httpcore==1.* in /usr/local/lib/python3.11/dist-packages (from httpx<1,>=0.23.0->openai) (1.0.9)\n",
            "Requirement already satisfied: h11>=0.16 in /usr/local/lib/python3.11/dist-packages (from httpcore==1.*->httpx<1,>=0.23.0->openai) (0.16.0)\n",
            "Requirement already satisfied: annotated-types>=0.6.0 in /usr/local/lib/python3.11/dist-packages (from pydantic<3,>=1.9.0->openai) (0.7.0)\n",
            "Requirement already satisfied: pydantic-core==2.33.2 in /usr/local/lib/python3.11/dist-packages (from pydantic<3,>=1.9.0->openai) (2.33.2)\n",
            "Requirement already satisfied: typing-inspection>=0.4.0 in /usr/local/lib/python3.11/dist-packages (from pydantic<3,>=1.9.0->openai) (0.4.1)\n"
          ]
        },
        {
          "output_type": "error",
          "ename": "TypeError",
          "evalue": "Client.__init__() got an unexpected keyword argument 'proxies'",
          "traceback": [
            "\u001b[0;31m---------------------------------------------------------------------------\u001b[0m",
            "\u001b[0;31mTypeError\u001b[0m                                 Traceback (most recent call last)",
            "\u001b[0;32m<ipython-input-16-004612b8ba18>\u001b[0m in \u001b[0;36m<cell line: 0>\u001b[0;34m()\u001b[0m\n\u001b[1;32m     11\u001b[0m \u001b[0;31m# library is loaded. However, a simple re-initialization after upgrade\u001b[0m\u001b[0;34m\u001b[0m\u001b[0;34m\u001b[0m\u001b[0m\n\u001b[1;32m     12\u001b[0m \u001b[0;31m# should ideally work.\u001b[0m\u001b[0;34m\u001b[0m\u001b[0;34m\u001b[0m\u001b[0m\n\u001b[0;32m---> 13\u001b[0;31m \u001b[0mclient\u001b[0m \u001b[0;34m=\u001b[0m \u001b[0mOpenAI\u001b[0m\u001b[0;34m(\u001b[0m\u001b[0mapi_key\u001b[0m\u001b[0;34m=\u001b[0m\u001b[0mAPIKEY\u001b[0m\u001b[0;34m)\u001b[0m\u001b[0;34m\u001b[0m\u001b[0;34m\u001b[0m\u001b[0m\n\u001b[0m\u001b[1;32m     14\u001b[0m \u001b[0;34m\u001b[0m\u001b[0m\n\u001b[1;32m     15\u001b[0m \u001b[0mclient\u001b[0m\u001b[0;34m\u001b[0m\u001b[0;34m\u001b[0m\u001b[0m\n",
            "\u001b[0;32m/usr/local/lib/python3.11/dist-packages/openai/_client.py\u001b[0m in \u001b[0;36m__init__\u001b[0;34m(self, api_key, organization, base_url, timeout, max_retries, default_headers, default_query, http_client, _strict_response_validation)\u001b[0m\n\u001b[1;32m    110\u001b[0m         \u001b[0;31m# This parameter may be removed or changed in the future.\u001b[0m\u001b[0;34m\u001b[0m\u001b[0;34m\u001b[0m\u001b[0m\n\u001b[1;32m    111\u001b[0m         \u001b[0;31m# If you rely on this feature, please open a GitHub issue\u001b[0m\u001b[0;34m\u001b[0m\u001b[0;34m\u001b[0m\u001b[0m\n\u001b[0;32m--> 112\u001b[0;31m         \u001b[0;31m# outlining your use-case to help us decide if it should be\u001b[0m\u001b[0;34m\u001b[0m\u001b[0;34m\u001b[0m\u001b[0m\n\u001b[0m\u001b[1;32m    113\u001b[0m         \u001b[0;31m# part of our public interface in the future.\u001b[0m\u001b[0;34m\u001b[0m\u001b[0;34m\u001b[0m\u001b[0m\n\u001b[1;32m    114\u001b[0m         \u001b[0m_strict_response_validation\u001b[0m\u001b[0;34m:\u001b[0m \u001b[0mbool\u001b[0m \u001b[0;34m=\u001b[0m \u001b[0;32mFalse\u001b[0m\u001b[0;34m,\u001b[0m\u001b[0;34m\u001b[0m\u001b[0;34m\u001b[0m\u001b[0m\n",
            "\u001b[0;32m/usr/local/lib/python3.11/dist-packages/openai/_base_client.py\u001b[0m in \u001b[0;36m__init__\u001b[0;34m(self, version, base_url, max_retries, timeout, transport, proxies, limits, http_client, custom_headers, custom_query, _strict_response_validation)\u001b[0m\n\u001b[1;32m    804\u001b[0m         \u001b[0;32mtry\u001b[0m\u001b[0;34m:\u001b[0m\u001b[0;34m\u001b[0m\u001b[0;34m\u001b[0m\u001b[0m\n\u001b[1;32m    805\u001b[0m             \u001b[0mself\u001b[0m\u001b[0;34m.\u001b[0m\u001b[0mclose\u001b[0m\u001b[0;34m(\u001b[0m\u001b[0;34m)\u001b[0m\u001b[0;34m\u001b[0m\u001b[0;34m\u001b[0m\u001b[0m\n\u001b[0;32m--> 806\u001b[0;31m         \u001b[0;32mexcept\u001b[0m \u001b[0mException\u001b[0m\u001b[0;34m:\u001b[0m\u001b[0;34m\u001b[0m\u001b[0;34m\u001b[0m\u001b[0m\n\u001b[0m\u001b[1;32m    807\u001b[0m             \u001b[0;32mpass\u001b[0m\u001b[0;34m\u001b[0m\u001b[0;34m\u001b[0m\u001b[0m\n\u001b[1;32m    808\u001b[0m \u001b[0;34m\u001b[0m\u001b[0m\n",
            "\u001b[0;31mTypeError\u001b[0m: Client.__init__() got an unexpected keyword argument 'proxies'"
          ]
        }
      ],
      "source": [
        "!pip install --upgrade openai\n",
        "\n",
        "## Load api file\n",
        "load_dotenv(dotenv_path='apikey.env.txt')\n",
        "\n",
        "## Set up environment\n",
        "APIKEY= os.getenv(\"APIKEY\")\n",
        "\n",
        "## Create an instance of API KEY\n",
        "# If the issue persists, it might be related to how the environment or\n",
        "# library is loaded. However, a simple re-initialization after upgrade\n",
        "# should ideally work.\n",
        "client = OpenAI(api_key=APIKEY)\n",
        "\n",
        "client"
      ]
    },
    {
      "cell_type": "markdown",
      "metadata": {
        "id": "-ZdObqeMkOig"
      },
      "source": [
        "Create a Spark session"
      ]
    },
    {
      "cell_type": "code",
      "execution_count": null,
      "metadata": {
        "id": "_Qv5GsOYjg6-"
      },
      "outputs": [],
      "source": []
    },
    {
      "cell_type": "markdown",
      "metadata": {
        "id": "vrVs7c7VkdAU"
      },
      "source": [
        "Loading the dataset"
      ]
    },
    {
      "cell_type": "code",
      "execution_count": null,
      "metadata": {
        "id": "7nN4tpI2kpJH"
      },
      "outputs": [],
      "source": []
    },
    {
      "cell_type": "markdown",
      "metadata": {
        "id": "J3iLfvXQqxg1"
      },
      "source": [
        "List of 8 products recently viewed by the user."
      ]
    },
    {
      "cell_type": "code",
      "execution_count": null,
      "metadata": {
        "id": "Y2tAbjKgqxKs"
      },
      "outputs": [],
      "source": [
        "recently_viewed_products = [\n",
        "    'P316',\n",
        "    'P333',\n",
        "    'P1115',\n",
        "    'P1691',\n",
        "    'P1082',\n",
        "    'P397',\n",
        "    'P1441',\n",
        "    'P1054',\n",
        "]"
      ]
    },
    {
      "cell_type": "markdown",
      "metadata": {
        "id": "p8GVRghclHxs"
      },
      "source": [
        "### Task 2 - Prepare the dataset"
      ]
    },
    {
      "cell_type": "markdown",
      "metadata": {
        "id": "QgtmOENUl6uS"
      },
      "source": [
        "Combine `title` and `description` Columns"
      ]
    },
    {
      "cell_type": "code",
      "execution_count": null,
      "metadata": {
        "id": "pIV-mogSlLPa"
      },
      "outputs": [],
      "source": []
    },
    {
      "cell_type": "markdown",
      "metadata": {
        "id": "wbgC0Iy5rO4M"
      },
      "source": [
        "get the combined_text column and convert it into a list"
      ]
    },
    {
      "cell_type": "code",
      "execution_count": null,
      "metadata": {
        "id": "nLNhzZNQmaQN"
      },
      "outputs": [],
      "source": []
    },
    {
      "cell_type": "markdown",
      "metadata": {
        "id": "cR-Nbn3jrN6F"
      },
      "source": [
        "Use OpenAI text embedding model to create the vector embeddings."
      ]
    },
    {
      "cell_type": "code",
      "execution_count": null,
      "metadata": {
        "id": "2Lc54tWKmldh"
      },
      "outputs": [],
      "source": []
    },
    {
      "cell_type": "markdown",
      "metadata": {
        "id": "DHuwaf1us-l1"
      },
      "source": [
        "Let't put the embedding vectors into our original dataframe\n",
        "\n",
        "Convert embedding vectors list into a Pyspark DataFrame"
      ]
    },
    {
      "cell_type": "code",
      "source": [
        "features_column_names = [f\"embedding_{i}\" for i in range(len(embedding_vectors[0]))]"
      ],
      "metadata": {
        "id": "EQRJmM3RhmK1"
      },
      "execution_count": null,
      "outputs": []
    },
    {
      "cell_type": "markdown",
      "source": [
        "Add unique `row_id` to each row in the pysaprk dataframe"
      ],
      "metadata": {
        "id": "aGzNmNuen5ol"
      }
    },
    {
      "cell_type": "code",
      "source": [],
      "metadata": {
        "id": "VoQDjRGmne3o"
      },
      "execution_count": null,
      "outputs": []
    },
    {
      "cell_type": "markdown",
      "source": [
        "Add unique `row_id` to each row in our main pyspark dataframe `df`"
      ],
      "metadata": {
        "id": "S2DhHJRXoJo7"
      }
    },
    {
      "cell_type": "code",
      "source": [],
      "metadata": {
        "id": "c8V61FsgnkLs"
      },
      "execution_count": null,
      "outputs": []
    },
    {
      "cell_type": "markdown",
      "source": [
        "Let's join the two dataframes"
      ],
      "metadata": {
        "id": "pgvT5LdZoPp3"
      }
    },
    {
      "cell_type": "code",
      "source": [],
      "metadata": {
        "id": "uTELw9sknntv"
      },
      "execution_count": null,
      "outputs": []
    },
    {
      "cell_type": "markdown",
      "metadata": {
        "id": "hY4One5i4VXh"
      },
      "source": [
        "### Task 3 - Cluster products using K-means"
      ]
    },
    {
      "cell_type": "markdown",
      "metadata": {
        "id": "QVGiIJZC22Yo"
      },
      "source": [
        "Assemble the 512 Embedding Columns into a Single 'features' Column"
      ]
    },
    {
      "cell_type": "code",
      "execution_count": null,
      "metadata": {
        "id": "uCBdSiRb23Wx"
      },
      "outputs": [],
      "source": []
    },
    {
      "cell_type": "markdown",
      "metadata": {
        "id": "7VFW7IQN3nGw"
      },
      "source": [
        "Apply K-Means Clustering with 5 Clusters on the `features` Column"
      ]
    },
    {
      "cell_type": "code",
      "execution_count": null,
      "metadata": {
        "id": "rW42NbueuByN"
      },
      "outputs": [],
      "source": []
    },
    {
      "cell_type": "markdown",
      "metadata": {
        "id": "tmQsXruiibQN"
      },
      "source": [
        "### Task 4 - Visualize the clusters"
      ]
    },
    {
      "cell_type": "markdown",
      "metadata": {
        "id": "RcKNghIQ7tmW"
      },
      "source": [
        "Let's reduce the dimensionality of our features for visualization purpose\n",
        "\n",
        "`512 dimensions => 2 dimensions`"
      ]
    },
    {
      "cell_type": "code",
      "execution_count": null,
      "metadata": {
        "id": "j4nInmIO3kef"
      },
      "outputs": [],
      "source": []
    },
    {
      "cell_type": "code",
      "source": [],
      "metadata": {
        "id": "GTDBB6hfl5B1"
      },
      "execution_count": null,
      "outputs": []
    },
    {
      "cell_type": "markdown",
      "metadata": {
        "id": "7aKKtmrtz6JI"
      },
      "source": [
        "Let's plot the Clusters"
      ]
    },
    {
      "cell_type": "code",
      "execution_count": null,
      "metadata": {
        "id": "wyWDqBw63yyo"
      },
      "outputs": [],
      "source": [
        "def plot_clusters(pca_df, num_clusters=5):\n",
        "    \"\"\"\n",
        "    Plots a 2D visualization of clusters using Plotly Express.\n",
        "\n",
        "    Parameters:\n",
        "    - pca_df (DataFrame): A Pandas DataFrame containing columns 'x', 'y', and 'cluster'.\n",
        "      'x' and 'y' are the 2D PCA components, and 'cluster' indicates the cluster label.\n",
        "    - num_clusters (int): The number of unique clusters to display.\n",
        "    - recently_viewed_df (DataFrame, optional): DataFrame with 'x' and 'y' coordinates for recently viewed products.\n",
        "\n",
        "    This function creates an interactive scatter plot where each point is colored according to its cluster.\n",
        "    Recently viewed products are marked as black crosses if provided.\n",
        "\n",
        "    Returns:\n",
        "    - fig (Figure): The Plotly figure object for the plot.\n",
        "    \"\"\"\n",
        "\n",
        "    # Create the base cluster plot\n",
        "    fig = px.scatter(\n",
        "        pca_df,\n",
        "        x='x',\n",
        "        y='y',\n",
        "        opacity=0.6,\n",
        "        size_max=4,\n",
        "        color= pca_df.cluster.astype(str),\n",
        "        title='2D Visualization of Clusters with Recently Viewed Products',\n",
        "        labels={'x': 'PCA Component 1', 'y': 'PCA Component 2'},\n",
        "        category_orders={'cluster': list(range(num_clusters))},\n",
        "        # show the product id in the tooltip\n",
        "        hover_data={'product_id': True}\n",
        "\n",
        "    )\n",
        "\n",
        "    # Update layout to add legend title and adjust plot settings\n",
        "    fig.update_layout(legend_title_text='Clusters', legend=dict(x=1, y=1), width=600, height=500)\n",
        "\n",
        "    return fig\n",
        "\n",
        "fig = plot_clusters(pca_df)\n",
        "fig.show()"
      ]
    },
    {
      "cell_type": "markdown",
      "metadata": {
        "id": "wUf0_1QE9x36"
      },
      "source": [
        "### Task 5 - Highlight recently viewed products"
      ]
    },
    {
      "cell_type": "code",
      "execution_count": null,
      "metadata": {
        "id": "5aVSaE-194HQ"
      },
      "outputs": [],
      "source": [
        "print(\"The user has recently viewed the following products: \", recently_viewed_products)"
      ]
    },
    {
      "cell_type": "markdown",
      "metadata": {
        "id": "-7XYwmVhKviT"
      },
      "source": [
        "Let's have a look at the records in our `clustered_data` dataframe related to the recently viewed products."
      ]
    },
    {
      "cell_type": "code",
      "execution_count": null,
      "metadata": {
        "id": "G__WrqP3RreI"
      },
      "outputs": [],
      "source": []
    },
    {
      "cell_type": "markdown",
      "metadata": {
        "id": "IgvR7IZBdfRP"
      },
      "source": [
        "### Task 6 - Recommend products based on recently viewed products"
      ]
    },
    {
      "cell_type": "markdown",
      "source": [
        "Let's have a look at the recently viewed products titles"
      ],
      "metadata": {
        "id": "WGXK0C8iHcqv"
      }
    },
    {
      "cell_type": "code",
      "source": [],
      "metadata": {
        "id": "n_fSozf6Hi5I"
      },
      "execution_count": null,
      "outputs": []
    },
    {
      "cell_type": "markdown",
      "metadata": {
        "id": "-VDv_TunhyAx"
      },
      "source": [
        "Let's see the distinct clusters of the recenetly viewed products."
      ]
    },
    {
      "cell_type": "code",
      "source": [],
      "metadata": {
        "id": "vcIpAoXdDgjK"
      },
      "execution_count": null,
      "outputs": []
    },
    {
      "cell_type": "markdown",
      "metadata": {
        "id": "fmoLOKthh2f_"
      },
      "source": [
        "Let's find the possible products for the recommendation."
      ]
    },
    {
      "cell_type": "code",
      "execution_count": null,
      "metadata": {
        "id": "unKBWkemiLR4"
      },
      "outputs": [],
      "source": []
    },
    {
      "cell_type": "markdown",
      "metadata": {
        "id": "zZxLGRiN41hy"
      },
      "source": [
        "Let's perform a groupby and generate a list of product IDs that can be recommended for each of the clusters."
      ]
    },
    {
      "cell_type": "code",
      "source": [],
      "metadata": {
        "id": "iW0uDP6vRxvq"
      },
      "execution_count": null,
      "outputs": []
    },
    {
      "cell_type": "code",
      "execution_count": null,
      "metadata": {
        "id": "JdjExGZS5HNV"
      },
      "outputs": [],
      "source": [
        "# write a python function to display the recommendations\n",
        "def display_recommendations(row):\n",
        "  # find the title of the product in df\n",
        "  product_ids = row['random_recommendations']\n",
        "  cluster = row.cluster\n",
        "\n",
        "  titles = data. \\\n",
        "          filter(data[\"product_id\"]. \\\n",
        "          isin(product_ids)).select(\"title\").collect()\n",
        "\n",
        "  print(\"\\n\")\n",
        "  print(\"Recommendations for Cluster:\", cluster)\n",
        "  for title in titles:\n",
        "    print(title[0])\n",
        "\n",
        "recommendations_df.apply(display_recommendations, axis=1)"
      ]
    }
  ],
  "metadata": {
    "colab": {
      "collapsed_sections": [
        "WSq024bak3oY",
        "p8GVRghclHxs",
        "hY4One5i4VXh",
        "tmQsXruiibQN",
        "wUf0_1QE9x36",
        "IgvR7IZBdfRP"
      ],
      "provenance": []
    },
    "kernelspec": {
      "display_name": "Python 3",
      "name": "python3"
    },
    "language_info": {
      "name": "python"
    }
  },
  "nbformat": 4,
  "nbformat_minor": 0
}